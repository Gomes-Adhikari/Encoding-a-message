{
  "nbformat": 4,
  "nbformat_minor": 0,
  "metadata": {
    "colab": {
      "provenance": [],
      "authorship_tag": "ABX9TyNfHZPdRBUZvcM4eKA92TOF",
      "include_colab_link": true
    },
    "kernelspec": {
      "name": "python3",
      "display_name": "Python 3"
    },
    "language_info": {
      "name": "python"
    }
  },
  "cells": [
    {
      "cell_type": "markdown",
      "metadata": {
        "id": "view-in-github",
        "colab_type": "text"
      },
      "source": [
        "<a href=\"https://colab.research.google.com/github/Gomes-Adhikari/Encoding-a-message/blob/main/Encoding_a_message.ipynb\" target=\"_parent\"><img src=\"https://colab.research.google.com/assets/colab-badge.svg\" alt=\"Open In Colab\"/></a>"
      ]
    },
    {
      "cell_type": "code",
      "execution_count": null,
      "metadata": {
        "colab": {
          "base_uri": "https://localhost:8080/"
        },
        "id": "9YG5701mv4pX",
        "outputId": "d81bc8ce-fcdc-4981-919b-ae68e1adf8df"
      },
      "outputs": [
        {
          "output_type": "stream",
          "name": "stdout",
          "text": [
            "Choice:\n",
            "\n",
            "1. Encode message\n",
            "2. Decode message\n",
            "3. Quit\n",
            "\n",
            "Enter choice : 1\n",
            "Enter message to Encode : Hi Gomes how are you\n",
            "Your Encoded message : iH sgtomesGgtf szsowhogo osgreaxxb teaouyois \n",
            "Choice:\n",
            "\n",
            "1. Encode message\n",
            "2. Decode message\n",
            "3. Quit\n",
            "\n",
            "Enter choice : 2\n",
            "Enter message to Decode : iH sgtomesGgtf szsowhogo osgreaxxb teaouyois\n",
            "Your decoded message : Hi Gomes how are you \n",
            "Choice:\n",
            "\n",
            "1. Encode message\n",
            "2. Decode message\n",
            "3. Quit\n",
            "\n"
          ]
        }
      ],
      "source": [
        "# encoding and decoding message program you can encode any message and you want and decode the message with this program\n",
        "import random\n",
        "def code():\n",
        "    x = input('Enter message to Encode : ')\n",
        "    list1 = x.split()\n",
        "    global encode_list\n",
        "    encode_list = []\n",
        "    char = ['b','a','e','i','s','o','t','z','x','f','g']\n",
        "    for i in list1:\n",
        "        if len(i)>2:\n",
        "            x = i[0]\n",
        "            v = []\n",
        "            v.extend(i)\n",
        "            v.pop(0)\n",
        "            p = ''\n",
        "            for i in v:\n",
        "                p+=i\n",
        "            i=p\n",
        "            i+=x\n",
        "            for t in range(3):\n",
        "                y = random.choice(char)\n",
        "                i+=y\n",
        "            for t in range(3):\n",
        "                c = char[random.randint(0,len(char)-1)]\n",
        "                i = c+i\n",
        "        elif len(i)==2:\n",
        "            i = i[::-1]\n",
        "        encode_list.append(i)\n",
        "    encode_string = ''\n",
        "    for i in encode_list:\n",
        "        encode_string = encode_string + i +' '\n",
        "    print('Your Encoded message :',encode_string)\n",
        "def decode():\n",
        "    y = input('Enter message to Decode : ')\n",
        "    decode_list = y.split()\n",
        "    decoded = []\n",
        "    for i in decode_list:\n",
        "        if len(i)>2:\n",
        "            i = i.replace(i[len(i)-3:len(i)],'')\n",
        "            i = i.replace(i[:3],'')\n",
        "            last = i[len(i)-1]\n",
        "            v = []\n",
        "            v.extend(i)\n",
        "            v.pop(len(i)-1)\n",
        "            p = ''\n",
        "            for i in v:\n",
        "                p+=i\n",
        "            i=p\n",
        "            i = last +i\n",
        "        elif len(i)==2:\n",
        "            i = i[::-1]\n",
        "        decoded.append(i)\n",
        "    decoded_string = ''\n",
        "    for i in decoded:\n",
        "        decoded_string = decoded_string + i + ' '\n",
        "    print('Your decoded message :',decoded_string)\n",
        "while True:\n",
        "    print('''Choice:\n",
        "\n",
        "1. Encode message\n",
        "2. Decode message\n",
        "3. Quit''')\n",
        "    print()\n",
        "    choice = input('Enter choice : ')\n",
        "    if choice not in ['1','2','3']:\n",
        "        print('Enter a valid choice!')\n",
        "        print()\n",
        "        choice = input('Enter choice : ')\n",
        "    if choice == '1':\n",
        "        code()\n",
        "    if choice== '2':\n",
        "        decode()\n",
        "    if choice not in ['1','2','3']:\n",
        "        print('invalid choice')\n",
        "    if choice== '3':\n",
        "        print('Thank You.')\n",
        "        break"
      ]
    }
  ]
}